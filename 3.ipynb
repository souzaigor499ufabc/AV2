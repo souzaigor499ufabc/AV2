{
 "cells": [
  {
   "cell_type": "markdown",
   "metadata": {},
   "source": [
    "![alt text]({DB7AAB70-04A8-4BAE-90F0-49F0108115F6}.png)\n",
    "![alt text]({B390F687-9614-4A51-9A09-D0EFBABF849C}.png)"
   ]
  },
  {
   "cell_type": "code",
   "execution_count": 18,
   "metadata": {},
   "outputs": [
    {
     "name": "stdout",
     "output_type": "stream",
     "text": [
      "[1, 2, 3, 4, 5]\n",
      "A soma dos termos é: 8.70\n"
     ]
    }
   ],
   "source": [
    "n = int(input(\"Digite um número inteiro: \"))\n",
    "numeros = []\n",
    "for i in range(1, n + 1):\n",
    "    numeros.append(i)\n",
    "\n",
    "print(numeros)\n",
    "\n",
    "S = 0\n",
    "\n",
    "for i in range(0, n):\n",
    "    S += numeros[i] / (n - i)\n",
    "\n",
    "print(f\"A soma dos termos é: {S:.2f}\")\n"
   ]
  }
 ],
 "metadata": {
  "kernelspec": {
   "display_name": "base",
   "language": "python",
   "name": "python3"
  },
  "language_info": {
   "codemirror_mode": {
    "name": "ipython",
    "version": 3
   },
   "file_extension": ".py",
   "mimetype": "text/x-python",
   "name": "python",
   "nbconvert_exporter": "python",
   "pygments_lexer": "ipython3",
   "version": "3.12.7"
  }
 },
 "nbformat": 4,
 "nbformat_minor": 2
}
